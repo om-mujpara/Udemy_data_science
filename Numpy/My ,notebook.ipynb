{
 "cells": [
  {
   "cell_type": "code",
   "execution_count": 2,
   "id": "f1f6b566",
   "metadata": {},
   "outputs": [
    {
     "name": "stdout",
     "output_type": "stream",
     "text": [
      "Omkar Munjpara\n"
     ]
    }
   ],
   "source": [
    "print(\"Omkar Munjpara\")"
   ]
  },
  {
   "cell_type": "code",
   "execution_count": null,
   "id": "1178174d",
   "metadata": {},
   "outputs": [],
   "source": [
    "#shift enter to go to the next cell after running current cell\n",
    "# ctrl enter to run sell\n",
    "# alt enter to add a new sell"
   ]
  },
  {
   "cell_type": "code",
   "execution_count": 2,
   "id": "7ac533d2",
   "metadata": {},
   "outputs": [],
   "source": [
    "name = \"Omkar Munjpara\"\n",
    "age = 20\n"
   ]
  },
  {
   "cell_type": "code",
   "execution_count": 3,
   "id": "0d9135d7",
   "metadata": {},
   "outputs": [
    {
     "data": {
      "text/plain": [
       "'My name is Omkar Munjpara and My age is 20'"
      ]
     },
     "execution_count": 3,
     "metadata": {},
     "output_type": "execute_result"
    }
   ],
   "source": [
    "\"My name is {} and My age is {}\".format(name,age)"
   ]
  },
  {
   "cell_type": "code",
   "execution_count": 8,
   "id": "eb3f3b93",
   "metadata": {},
   "outputs": [
    {
     "data": {
      "text/plain": [
       "\"I'm from sihor. It's  pincode is 364240 \""
      ]
     },
     "execution_count": 8,
     "metadata": {},
     "output_type": "execute_result"
    }
   ],
   "source": [
    "\"I'm from {city}. It's  pincode is {pin} \".format(city=\"sihor\",pin=364240)"
   ]
  },
  {
   "cell_type": "code",
   "execution_count": 16,
   "id": "f5bceb40",
   "metadata": {},
   "outputs": [
    {
     "data": {
      "text/plain": [
       "True"
      ]
     },
     "execution_count": 16,
     "metadata": {},
     "output_type": "execute_result"
    }
   ],
   "source": [
    "True"
   ]
  },
  {
   "cell_type": "code",
   "execution_count": 18,
   "id": "ae2d8d76",
   "metadata": {},
   "outputs": [],
   "source": [
    "ls =  [1,2,3,4,5,6]\n",
    "\n",
    "def sqr(num):\n",
    "    return num**2"
   ]
  },
  {
   "cell_type": "code",
   "execution_count": 19,
   "id": "e6099824",
   "metadata": {},
   "outputs": [
    {
     "data": {
      "text/plain": [
       "[1, 4, 9, 16, 25, 36]"
      ]
     },
     "execution_count": 19,
     "metadata": {},
     "output_type": "execute_result"
    }
   ],
   "source": [
    "list(map(sqr,ls))"
   ]
  },
  {
   "cell_type": "code",
   "execution_count": 20,
   "id": "54a47086",
   "metadata": {},
   "outputs": [],
   "source": [
    "t = lambda var: var*2"
   ]
  },
  {
   "cell_type": "code",
   "execution_count": 22,
   "id": "c974ac76",
   "metadata": {},
   "outputs": [
    {
     "data": {
      "text/plain": [
       "[2, 4, 6, 8, 10, 12]"
      ]
     },
     "execution_count": 22,
     "metadata": {},
     "output_type": "execute_result"
    }
   ],
   "source": [
    "list(map(t,ls))"
   ]
  },
  {
   "cell_type": "code",
   "execution_count": 23,
   "id": "ff706c27",
   "metadata": {},
   "outputs": [],
   "source": [
    "st = \"My name is, Omkar Munjpara\""
   ]
  },
  {
   "cell_type": "code",
   "execution_count": 24,
   "id": "79ca86f3",
   "metadata": {},
   "outputs": [
    {
     "data": {
      "text/plain": [
       "['My name is', ' Omkar Munjpara']"
      ]
     },
     "execution_count": 24,
     "metadata": {},
     "output_type": "execute_result"
    }
   ],
   "source": [
    "st.split(',')"
   ]
  },
  {
   "cell_type": "code",
   "execution_count": null,
   "id": "3bffc017",
   "metadata": {},
   "outputs": [],
   "source": []
  }
 ],
 "metadata": {
  "kernelspec": {
   "display_name": "Python 3 (ipykernel)",
   "language": "python",
   "name": "python3"
  },
  "language_info": {
   "codemirror_mode": {
    "name": "ipython",
    "version": 3
   },
   "file_extension": ".py",
   "mimetype": "text/x-python",
   "name": "python",
   "nbconvert_exporter": "python",
   "pygments_lexer": "ipython3",
   "version": "3.11.3"
  }
 },
 "nbformat": 4,
 "nbformat_minor": 5
}
